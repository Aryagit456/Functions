{
  "nbformat": 4,
  "nbformat_minor": 0,
  "metadata": {
    "colab": {
      "provenance": []
    },
    "kernelspec": {
      "name": "python3",
      "display_name": "Python 3"
    },
    "language_info": {
      "name": "python"
    }
  },
  "cells": [
    {
      "cell_type": "markdown",
      "source": [
        "# Functions\n",
        "\n"
      ],
      "metadata": {
        "id": "qetwdOrQBGGC"
      }
    },
    {
      "cell_type": "markdown",
      "source": [
        "1. What is the difference between a function and a method in Python.\n",
        "  - In Python, functions and methods are very similar — both are blocks of reusable code that perform a specific task.\n",
        "However, there’s a key difference in how they are used and what they belong to.\n",
        "\n",
        "2. Questions\n",
        "  - This is the second answer.\n",
        "  "
      ],
      "metadata": {
        "id": "XN_uUpU9BkqD"
      }
    },
    {
      "cell_type": "code",
      "execution_count": null,
      "metadata": {
        "id": "aSXW4-IOAXfA"
      },
      "outputs": [],
      "source": [
        "# questions\n",
        "'''\n",
        "this is the questoins\n",
        "'''\n",
        "\n",
        "\"\"\"\n",
        "this is the question\n",
        "\"\"\""
      ]
    }
  ]
}